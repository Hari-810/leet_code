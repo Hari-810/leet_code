{
 "cells": [
  {
   "cell_type": "markdown",
   "metadata": {},
   "source": [
    "Leetcode URL:\n",
    "\n",
    "https://leetcode.com/problems/isomorphic-strings/description/"
   ]
  },
  {
   "cell_type": "code",
   "execution_count": null,
   "metadata": {},
   "outputs": [],
   "source": [
    "class Solution(object):\n",
    "    def isIsomorphic(self, s, t):\n",
    "        \"\"\"\n",
    "        :type s: str\n",
    "        :type t: str\n",
    "        :rtype: bool\n",
    "        \"\"\"\n",
    "        if len(s) != len(t):\n",
    "            return False\n",
    "        \n",
    "        mapping_s_t = {}\n",
    "        mapping_t_s = {}\n",
    "        \n",
    "        for char_s, char_t in zip(s, t):\n",
    "            if char_s not in mapping_s_t:\n",
    "                mapping_s_t[char_s] = char_t\n",
    "            else:\n",
    "                if mapping_s_t[char_s] != char_t:\n",
    "                    return False\n",
    "            \n",
    "            if char_t not in mapping_t_s:\n",
    "                mapping_t_s[char_t] = char_s\n",
    "            else:\n",
    "                if mapping_t_s[char_t] != char_s:\n",
    "                    return False\n",
    "        \n",
    "        return True\n"
   ]
  }
 ],
 "metadata": {
  "language_info": {
   "name": "python"
  }
 },
 "nbformat": 4,
 "nbformat_minor": 2
}
