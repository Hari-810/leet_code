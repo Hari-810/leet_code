{
 "cells": [
  {
   "cell_type": "markdown",
   "metadata": {},
   "source": [
    "LeetCode URL:\n",
    "\n",
    "https://leetcode.com/problems/longest-substring-without-repeating-characters/"
   ]
  },
  {
   "cell_type": "code",
   "execution_count": null,
   "metadata": {},
   "outputs": [],
   "source": [
    "class Solution:\n",
    "    def lengthOfLongestSubstring(self, s: str) -> int:\n",
    "        n = len(s)\n",
    "        if n == 0:\n",
    "            return 0\n",
    "        \n",
    "        # Dictionary to store the last index of each character in the string\n",
    "        char_index = {}\n",
    "        max_length = 0\n",
    "        start = 0\n",
    "        \n",
    "        for end in range(n):\n",
    "            if s[end] in char_index:\n",
    "                # If the character is already in the dictionary, update the start index\n",
    "                # to be the next index after the last occurrence of the character\n",
    "                start = max(start, char_index[s[end]] + 1)\n",
    "            \n",
    "            # Update the last index of the character\n",
    "            char_index[s[end]] = end\n",
    "            \n",
    "            # Update the maximum length if needed\n",
    "            max_length = max(max_length, end - start + 1)\n",
    "        \n",
    "        return max_length"
   ]
  }
 ],
 "metadata": {
  "language_info": {
   "name": "python"
  }
 },
 "nbformat": 4,
 "nbformat_minor": 2
}
