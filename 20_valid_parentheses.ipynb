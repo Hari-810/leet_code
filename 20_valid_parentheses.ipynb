{
 "cells": [
  {
   "cell_type": "markdown",
   "metadata": {},
   "source": [
    "Leetcode URL:\n",
    "\n",
    "https://leetcode.com/problems/valid-parentheses/description/"
   ]
  },
  {
   "cell_type": "code",
   "execution_count": null,
   "metadata": {},
   "outputs": [],
   "source": [
    "class Solution(object):\n",
    "    def isValid(self, s):\n",
    "        \"\"\"\n",
    "        :type s: str\n",
    "        :rtype: bool\n",
    "        \"\"\"\n",
    "        d = {'(':')','{':'}','[':']'}\n",
    "        stack = []\n",
    "        for i in s:\n",
    "            if i in d.keys():\n",
    "                stack.append(i)\n",
    "            elif i in d.values():\n",
    "                if not stack or d[stack.pop()] != i:\n",
    "                    return(False)\n",
    "                    \n",
    "        else:\n",
    "            return (len(stack) == 0)  "
   ]
  },
  {
   "cell_type": "markdown",
   "metadata": {},
   "source": [
    "Iterates through each character in the string s. If the character is an opening bracket, it's added to the stack. If it's a closing bracket, it's compared with the top element of the stack to ensure it matches the corresponding opening bracket. If everything matches and the stack is empty at the end, the string is considered valid."
   ]
  }
 ],
 "metadata": {
  "language_info": {
   "name": "python"
  }
 },
 "nbformat": 4,
 "nbformat_minor": 2
}
