{
 "cells": [
  {
   "cell_type": "markdown",
   "metadata": {},
   "source": [
    "# LeetCode URL\n",
    "\n",
    "https://leetcode.com/problems/find-the-difference/description/"
   ]
  },
  {
   "cell_type": "code",
   "execution_count": null,
   "metadata": {},
   "outputs": [],
   "source": [
    "class Solution:\n",
    "    def findTheDifference(self, s: str, t: str) -> str:\n",
    "            sum_s = sum(ord(char) for char in s)\n",
    "            sum_t = sum(ord(char) for char in t)\n",
    "            return chr(sum_t - sum_s)\n",
    "\n",
    "                "
   ]
  }
 ],
 "metadata": {
  "language_info": {
   "name": "python"
  }
 },
 "nbformat": 4,
 "nbformat_minor": 2
}
