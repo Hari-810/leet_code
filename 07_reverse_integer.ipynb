{
 "cells": [
  {
   "cell_type": "markdown",
   "metadata": {},
   "source": [
    "LeetCode URL:\n",
    "\n",
    "https://leetcode.com/problems/reverse-integer/"
   ]
  },
  {
   "cell_type": "code",
   "execution_count": null,
   "metadata": {},
   "outputs": [],
   "source": [
    "class Solution:\n",
    "    def reverse(self, x: int) -> int:\n",
    "        # Define the upper and lower bounds of a 32-bit signed integer\n",
    "        INT_MAX = 2**31 - 1\n",
    "        INT_MIN = -2**31\n",
    "        is_negative = x < 0\n",
    "        num = abs(x)\n",
    "        reversed_num = int(str(num)[::-1])\n",
    "        if is_negative:\n",
    "            reversed_num *= -1\n",
    "        if reversed_num < INT_MIN or reversed_num > INT_MAX:\n",
    "            return 0\n",
    "        return reversed_num"
   ]
  }
 ],
 "metadata": {
  "language_info": {
   "name": "python"
  }
 },
 "nbformat": 4,
 "nbformat_minor": 2
}
