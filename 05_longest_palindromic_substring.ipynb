{
 "cells": [
  {
   "cell_type": "markdown",
   "metadata": {},
   "source": [
    "# LeetCode URL:\n",
    "\n",
    "https://leetcode.com/problems/longest-palindromic-substring/description/"
   ]
  },
  {
   "cell_type": "code",
   "execution_count": null,
   "metadata": {},
   "outputs": [],
   "source": [
    "class Solution:\n",
    "    def longestPalindrome(self, s: str) -> str:\n",
    "\n",
    "        def expand_around_center(s, left, right):\n",
    "            while left >= 0 and right < len(s) and s[left] == s[right]:\n",
    "                left -= 1\n",
    "                right += 1\n",
    "            return s[left + 1:right]\n",
    "\n",
    "        if not s:\n",
    "            return \"\"\n",
    "\n",
    "        longest = \"\"\n",
    "        for i in range(len(s)):\n",
    "            # Odd length palindromes (single character center)\n",
    "            odd_palindrome = expand_around_center(s, i, i)\n",
    "            if len(odd_palindrome) > len(longest):\n",
    "                longest = odd_palindrome\n",
    "\n",
    "            # Even length palindromes (pair center)\n",
    "            even_palindrome = expand_around_center(s, i, i + 1)\n",
    "            if len(even_palindrome) > len(longest):\n",
    "                longest = even_palindrome\n",
    "\n",
    "        return longest\n",
    "\n"
   ]
  }
 ],
 "metadata": {
  "language_info": {
   "name": "python"
  }
 },
 "nbformat": 4,
 "nbformat_minor": 2
}
