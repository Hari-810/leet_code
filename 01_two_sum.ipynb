{
 "cells": [
  {
   "cell_type": "markdown",
   "metadata": {},
   "source": [
    "leetcode  URL:\n",
    "\n",
    "https://leetcode.com/problems/two-sum/"
   ]
  },
  {
   "cell_type": "markdown",
   "metadata": {},
   "source": [
    "Solution:"
   ]
  },
  {
   "cell_type": "code",
   "execution_count": null,
   "metadata": {},
   "outputs": [],
   "source": [
    "class Solution(object):\n",
    "    def twoSum(self, nums, target):\n",
    "        \"\"\"\n",
    "        :type nums: List[int]\n",
    "        :type target: int\n",
    "        :rtype: List[int]\n",
    "        \"\"\"\n",
    "        \n",
    "        num_indices = {}\n",
    "        for i, num in enumerate(nums):\n",
    "            complement = target - num\n",
    "            if complement in num_indices:\n",
    "                return [num_indices[complement], i]\n",
    "            num_indices[num] = i\n",
    "        "
   ]
  },
  {
   "cell_type": "markdown",
   "metadata": {},
   "source": [
    "Explantion:\n",
    "\n",
    "We iterate through the list nums only once. For each number num, we check if its complement (target - num) exists in the num_indices dictionary. If it does, we return the indices of num and its complement. Otherwise, we add num to the dictionary along with its index. This approach has a time complexity of O(n) since we traverse the list once, and the dictionary lookup is constant time on average."
   ]
  }
 ],
 "metadata": {
  "language_info": {
   "name": "python"
  }
 },
 "nbformat": 4,
 "nbformat_minor": 2
}
