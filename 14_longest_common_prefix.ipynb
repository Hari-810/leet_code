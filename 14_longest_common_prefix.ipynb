{
 "cells": [
  {
   "cell_type": "markdown",
   "metadata": {},
   "source": [
    "Leetcode URL:\n",
    "\n",
    "https://leetcode.com/problems/longest-common-prefix/description/"
   ]
  },
  {
   "cell_type": "markdown",
   "metadata": {},
   "source": [
    "Solution"
   ]
  },
  {
   "cell_type": "code",
   "execution_count": null,
   "metadata": {},
   "outputs": [],
   "source": [
    "class Solution(object):\n",
    "    def longestCommonPrefix(self, strs):\n",
    "        \"\"\"\n",
    "        :type strs: List[str]\n",
    "        :rtype: str\n",
    "        \"\"\"\n",
    "        if not strs:\n",
    "            return \"\"\n",
    "        \n",
    "        # Find the shortest string in the list\n",
    "        shortest = min(strs, key=len)\n",
    "        \n",
    "        # Iterate through the characters of the shortest string\n",
    "        for i, char in enumerate(shortest):\n",
    "            # Check if the character is common among all strings\n",
    "            for other in strs:\n",
    "                if other[i] != char:\n",
    "                    return shortest[:i]\n",
    "        \n",
    "        return shortest"
   ]
  },
  {
   "cell_type": "markdown",
   "metadata": {},
   "source": [
    "Explanation:\n",
    "\n",
    "Iterates through the characters of the shortest string and checks if each character is common among all strings. If it finds a character that is not common, it returns the prefix up to that point. If all characters are common, it returns the shortest string itself. If the input list is empty, it returns an empty string."
   ]
  }
 ],
 "metadata": {
  "language_info": {
   "name": "python"
  }
 },
 "nbformat": 4,
 "nbformat_minor": 2
}
