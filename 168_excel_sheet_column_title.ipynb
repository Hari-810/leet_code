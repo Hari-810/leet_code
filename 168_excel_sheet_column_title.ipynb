{
 "cells": [
  {
   "cell_type": "markdown",
   "metadata": {},
   "source": [
    "Leetcode URL:\n",
    "\n",
    "https://leetcode.com/problems/excel-sheet-column-title/description/"
   ]
  },
  {
   "cell_type": "code",
   "execution_count": null,
   "metadata": {},
   "outputs": [],
   "source": [
    "class Solution(object):\n",
    "    def convertToTitle(self, columnNumber):\n",
    "        \"\"\"\n",
    "        :type columnNumber: int\n",
    "        :rtype: str\n",
    "        \"\"\"\n",
    "        result = \"\"\n",
    "        while columnNumber > 0:\n",
    "            columnNumber -= 1\n",
    "            chr_value = columnNumber % 26\n",
    "            result = chr(ord('A') + chr_value) + result\n",
    "            columnNumber //= 26\n",
    "        return result"
   ]
  }
 ],
 "metadata": {
  "language_info": {
   "name": "python"
  }
 },
 "nbformat": 4,
 "nbformat_minor": 2
}
